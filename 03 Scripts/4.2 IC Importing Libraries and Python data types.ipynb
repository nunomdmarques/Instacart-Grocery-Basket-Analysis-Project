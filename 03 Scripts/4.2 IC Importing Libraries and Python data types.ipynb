{
 "cells": [
  {
   "cell_type": "markdown",
   "id": "048b6b5a-0193-4fa0-9721-65f13f14154b",
   "metadata": {},
   "source": [
    "# 01. Importing Libraries"
   ]
  },
  {
   "cell_type": "code",
   "execution_count": 1,
   "id": "6f88004e-34b8-48ca-9ee0-4b5150d1b79e",
   "metadata": {},
   "outputs": [],
   "source": [
    "# Importing libraries\n",
    "import numpy as np\n",
    "import pandas as pd\n",
    "import os"
   ]
  },
  {
   "cell_type": "markdown",
   "id": "847ed1b9-b3e5-4d71-abb6-efb67769f98a",
   "metadata": {},
   "source": [
    "# 02. Data types"
   ]
  },
  {
   "cell_type": "code",
   "execution_count": 37,
   "id": "1aa4866e-9505-4381-9335-ece8ab2f3692",
   "metadata": {},
   "outputs": [],
   "source": [
    "x= 25\n",
    "n= 50\n",
    "y= 4\n",
    "z= 104"
   ]
  },
  {
   "cell_type": "code",
   "execution_count": 39,
   "id": "eaac9e8f-c054-4a0a-bead-1f83d990c9f2",
   "metadata": {},
   "outputs": [
    {
     "data": {
      "text/plain": [
       "100"
      ]
     },
     "execution_count": 39,
     "metadata": {},
     "output_type": "execute_result"
    }
   ],
   "source": [
    "x+n+n-x"
   ]
  },
  {
   "cell_type": "code",
   "execution_count": 40,
   "id": "fde2b6e0-69dd-464e-a0f3-6be943fcfb35",
   "metadata": {},
   "outputs": [
    {
     "data": {
      "text/plain": [
       "100"
      ]
     },
     "execution_count": 40,
     "metadata": {},
     "output_type": "execute_result"
    }
   ],
   "source": [
    "z-y"
   ]
  },
  {
   "cell_type": "code",
   "execution_count": 41,
   "id": "96a5f55e-4c24-4ad7-b06f-e717e1c69b98",
   "metadata": {},
   "outputs": [
    {
     "data": {
      "text/plain": [
       "100"
      ]
     },
     "execution_count": 41,
     "metadata": {},
     "output_type": "execute_result"
    }
   ],
   "source": [
    "z-x+y+x-y-y"
   ]
  },
  {
   "cell_type": "code",
   "execution_count": 42,
   "id": "179534b0-7732-4937-8530-938205215e22",
   "metadata": {},
   "outputs": [],
   "source": [
    "fp1 =3.1\n",
    "fp2 =4.5"
   ]
  },
  {
   "cell_type": "code",
   "execution_count": 43,
   "id": "178b100c-8182-48c9-9afd-2c9e87782071",
   "metadata": {},
   "outputs": [
    {
     "data": {
      "text/plain": [
       "13.950000000000001"
      ]
     },
     "execution_count": 43,
     "metadata": {},
     "output_type": "execute_result"
    }
   ],
   "source": [
    "fp1*fp2"
   ]
  },
  {
   "cell_type": "code",
   "execution_count": 46,
   "id": "7d42554b-486a-4ba2-8b0a-e5f363c5cf8d",
   "metadata": {},
   "outputs": [
    {
     "data": {
      "text/plain": [
       "'Pancakes'"
      ]
     },
     "execution_count": 46,
     "metadata": {},
     "output_type": "execute_result"
    }
   ],
   "source": [
    "'Pan'+'cakes'"
   ]
  },
  {
   "cell_type": "code",
   "execution_count": 44,
   "id": "87c4e92a-5075-4464-86aa-163e80a98109",
   "metadata": {},
   "outputs": [
    {
     "data": {
      "text/plain": [
       "'Carreer Foundry rules!'"
      ]
     },
     "execution_count": 44,
     "metadata": {},
     "output_type": "execute_result"
    }
   ],
   "source": [
    "'Carreer '+'Foundry '+ 'rules!'"
   ]
  },
  {
   "cell_type": "code",
   "execution_count": 47,
   "id": "ca2b61e6-8d29-4711-a50c-949702bd8368",
   "metadata": {},
   "outputs": [
    {
     "data": {
      "text/plain": [
       "'This is Task 4.2 in the Data Immersion course'"
      ]
     },
     "execution_count": 47,
     "metadata": {},
     "output_type": "execute_result"
    }
   ],
   "source": [
    "'This is'+' Task 4.2' + ' in the Data Immersion'+' course'"
   ]
  },
  {
   "cell_type": "code",
   "execution_count": null,
   "id": "43ff5fcc-7796-41f7-9552-da4b16e182a6",
   "metadata": {},
   "outputs": [],
   "source": []
  }
 ],
 "metadata": {
  "kernelspec": {
   "display_name": "Python 3 (ipykernel)",
   "language": "python",
   "name": "python3"
  },
  "language_info": {
   "codemirror_mode": {
    "name": "ipython",
    "version": 3
   },
   "file_extension": ".py",
   "mimetype": "text/x-python",
   "name": "python",
   "nbconvert_exporter": "python",
   "pygments_lexer": "ipython3",
   "version": "3.11.5"
  }
 },
 "nbformat": 4,
 "nbformat_minor": 5
}
