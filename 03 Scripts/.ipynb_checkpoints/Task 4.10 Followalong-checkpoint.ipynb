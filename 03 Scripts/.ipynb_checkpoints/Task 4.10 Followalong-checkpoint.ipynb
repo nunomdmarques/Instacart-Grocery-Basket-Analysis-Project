{
 "cells": [
  {
   "cell_type": "markdown",
   "id": "f1c55d4b-f1d0-4f83-bf98-e1f59cc8fd7b",
   "metadata": {},
   "source": [
    "# Import Libraries and Files"
   ]
  },
  {
   "cell_type": "code",
   "execution_count": 1,
   "id": "3dd82bd7-4bd8-491a-9b2b-70c8c2e03950",
   "metadata": {},
   "outputs": [],
   "source": [
    "import numpy as np\n",
    "import pandas as pd\n",
    "import os"
   ]
  },
  {
   "cell_type": "code",
   "execution_count": 3,
   "id": "5651e10d-782f-43f4-9e26-96afb4c6748b",
   "metadata": {},
   "outputs": [],
   "source": [
    "#create path variable\n",
    "path=r'C:\\Users\\Nuno\\04-2024 Instacart Basket Analysis'\n",
    "#import file\n",
    "ords_prods_merge= pd.read_pickle(os.path.join(path,'02 Data','Prepared Data','4_9_orders_products_derived.pkl'))"
   ]
  },
  {
   "cell_type": "markdown",
   "id": "79f786a3-7456-4952-99b8-c845994ad078",
   "metadata": {},
   "source": [
    "# Creating crosstab for inspecting days_since_prior_order missing values cause"
   ]
  },
  {
   "cell_type": "code",
   "execution_count": 4,
   "id": "46ba14f8-5b54-4661-a451-4a54f8523b3a",
   "metadata": {},
   "outputs": [],
   "source": [
    "#create the crosstab table (Python's version of a pivot table)\n",
    "crosstab = pd.crosstab(ords_prods_merge['days_since_prior_order'],ords_prods_merge['order_number'],dropna= False)"
   ]
  },
  {
   "cell_type": "code",
   "execution_count": 5,
   "id": "b5812fa7-5bc3-4022-ac9d-0374a3a20d63",
   "metadata": {},
   "outputs": [],
   "source": [
    "# Copy crosstab to clipboard to paste to Excel for further analysis\n",
    "crosstab.to_clipboard()"
   ]
  }
 ],
 "metadata": {
  "kernelspec": {
   "display_name": "Python 3 (ipykernel)",
   "language": "python",
   "name": "python3"
  },
  "language_info": {
   "codemirror_mode": {
    "name": "ipython",
    "version": 3
   },
   "file_extension": ".py",
   "mimetype": "text/x-python",
   "name": "python",
   "nbconvert_exporter": "python",
   "pygments_lexer": "ipython3",
   "version": "3.11.5"
  }
 },
 "nbformat": 4,
 "nbformat_minor": 5
}
