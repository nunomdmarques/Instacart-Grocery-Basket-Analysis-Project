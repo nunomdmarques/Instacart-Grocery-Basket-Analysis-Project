{
 "cells": [
  {
   "cell_type": "markdown",
   "id": "a500c055-f703-4b33-a66a-55f1e0bb4861",
   "metadata": {},
   "source": [
    "# Importing Libraries"
   ]
  },
  {
   "cell_type": "code",
   "execution_count": 1,
   "id": "a8ec68db-30d8-4ac3-91f3-a3288c15d04b",
   "metadata": {},
   "outputs": [],
   "source": [
    "import numpy as np\n",
    "import pandas as pd\n",
    "import os"
   ]
  },
  {
   "cell_type": "markdown",
   "id": "b0ae24c5-e67c-4b51-bdfc-b02b64a5dda6",
   "metadata": {},
   "source": [
    "# Importing Files"
   ]
  },
  {
   "cell_type": "code",
   "execution_count": 2,
   "id": "4988b568-fd44-4041-8c92-5989cead6393",
   "metadata": {},
   "outputs": [],
   "source": [
    "path = r'C:\\Users\\Nuno\\04-2024 Instacart Basket Analysis\\02 Data'\n",
    "df_ords_prods_merge = pd.read_pickle(os.path.join(path,'Prepared Data','orders_products_merged.pkl'))"
   ]
  },
  {
   "cell_type": "markdown",
   "id": "4d2ffe1a-60ee-4669-a8c7-4f120738b3cd",
   "metadata": {},
   "source": [
    "# Checking Import"
   ]
  },
  {
   "cell_type": "code",
   "execution_count": 3,
   "id": "a3194cdc-3408-4cf5-88f4-61a69827212a",
   "metadata": {},
   "outputs": [
    {
     "data": {
      "text/html": [
       "<div>\n",
       "<style scoped>\n",
       "    .dataframe tbody tr th:only-of-type {\n",
       "        vertical-align: middle;\n",
       "    }\n",
       "\n",
       "    .dataframe tbody tr th {\n",
       "        vertical-align: top;\n",
       "    }\n",
       "\n",
       "    .dataframe thead th {\n",
       "        text-align: right;\n",
       "    }\n",
       "</style>\n",
       "<table border=\"1\" class=\"dataframe\">\n",
       "  <thead>\n",
       "    <tr style=\"text-align: right;\">\n",
       "      <th></th>\n",
       "      <th>order_id</th>\n",
       "      <th>product_id</th>\n",
       "      <th>add_to_cart_order</th>\n",
       "      <th>reordered</th>\n",
       "      <th>user_id</th>\n",
       "      <th>order_number</th>\n",
       "      <th>orders_day_of_week</th>\n",
       "      <th>order_hour_of_day</th>\n",
       "      <th>days_since_prior_order</th>\n",
       "      <th>first_order_flag</th>\n",
       "      <th>product_name</th>\n",
       "      <th>aisle_id</th>\n",
       "      <th>department_id</th>\n",
       "      <th>prices</th>\n",
       "      <th>_merge</th>\n",
       "    </tr>\n",
       "  </thead>\n",
       "  <tbody>\n",
       "    <tr>\n",
       "      <th>0</th>\n",
       "      <td>2</td>\n",
       "      <td>33120</td>\n",
       "      <td>1</td>\n",
       "      <td>1</td>\n",
       "      <td>202279</td>\n",
       "      <td>3</td>\n",
       "      <td>5</td>\n",
       "      <td>9</td>\n",
       "      <td>8.0</td>\n",
       "      <td>False</td>\n",
       "      <td>Organic Egg Whites</td>\n",
       "      <td>86</td>\n",
       "      <td>16</td>\n",
       "      <td>11.3</td>\n",
       "      <td>both</td>\n",
       "    </tr>\n",
       "    <tr>\n",
       "      <th>1</th>\n",
       "      <td>26</td>\n",
       "      <td>33120</td>\n",
       "      <td>5</td>\n",
       "      <td>0</td>\n",
       "      <td>153404</td>\n",
       "      <td>2</td>\n",
       "      <td>0</td>\n",
       "      <td>16</td>\n",
       "      <td>7.0</td>\n",
       "      <td>False</td>\n",
       "      <td>Organic Egg Whites</td>\n",
       "      <td>86</td>\n",
       "      <td>16</td>\n",
       "      <td>11.3</td>\n",
       "      <td>both</td>\n",
       "    </tr>\n",
       "    <tr>\n",
       "      <th>2</th>\n",
       "      <td>120</td>\n",
       "      <td>33120</td>\n",
       "      <td>13</td>\n",
       "      <td>0</td>\n",
       "      <td>23750</td>\n",
       "      <td>11</td>\n",
       "      <td>6</td>\n",
       "      <td>8</td>\n",
       "      <td>10.0</td>\n",
       "      <td>False</td>\n",
       "      <td>Organic Egg Whites</td>\n",
       "      <td>86</td>\n",
       "      <td>16</td>\n",
       "      <td>11.3</td>\n",
       "      <td>both</td>\n",
       "    </tr>\n",
       "    <tr>\n",
       "      <th>3</th>\n",
       "      <td>327</td>\n",
       "      <td>33120</td>\n",
       "      <td>5</td>\n",
       "      <td>1</td>\n",
       "      <td>58707</td>\n",
       "      <td>21</td>\n",
       "      <td>6</td>\n",
       "      <td>9</td>\n",
       "      <td>8.0</td>\n",
       "      <td>False</td>\n",
       "      <td>Organic Egg Whites</td>\n",
       "      <td>86</td>\n",
       "      <td>16</td>\n",
       "      <td>11.3</td>\n",
       "      <td>both</td>\n",
       "    </tr>\n",
       "    <tr>\n",
       "      <th>4</th>\n",
       "      <td>390</td>\n",
       "      <td>33120</td>\n",
       "      <td>28</td>\n",
       "      <td>1</td>\n",
       "      <td>166654</td>\n",
       "      <td>48</td>\n",
       "      <td>0</td>\n",
       "      <td>12</td>\n",
       "      <td>9.0</td>\n",
       "      <td>False</td>\n",
       "      <td>Organic Egg Whites</td>\n",
       "      <td>86</td>\n",
       "      <td>16</td>\n",
       "      <td>11.3</td>\n",
       "      <td>both</td>\n",
       "    </tr>\n",
       "  </tbody>\n",
       "</table>\n",
       "</div>"
      ],
      "text/plain": [
       "   order_id  product_id  add_to_cart_order  reordered  user_id  order_number  \\\n",
       "0         2       33120                  1          1   202279             3   \n",
       "1        26       33120                  5          0   153404             2   \n",
       "2       120       33120                 13          0    23750            11   \n",
       "3       327       33120                  5          1    58707            21   \n",
       "4       390       33120                 28          1   166654            48   \n",
       "\n",
       "   orders_day_of_week  order_hour_of_day  days_since_prior_order  \\\n",
       "0                   5                  9                     8.0   \n",
       "1                   0                 16                     7.0   \n",
       "2                   6                  8                    10.0   \n",
       "3                   6                  9                     8.0   \n",
       "4                   0                 12                     9.0   \n",
       "\n",
       "   first_order_flag        product_name  aisle_id  department_id  prices  \\\n",
       "0             False  Organic Egg Whites        86             16    11.3   \n",
       "1             False  Organic Egg Whites        86             16    11.3   \n",
       "2             False  Organic Egg Whites        86             16    11.3   \n",
       "3             False  Organic Egg Whites        86             16    11.3   \n",
       "4             False  Organic Egg Whites        86             16    11.3   \n",
       "\n",
       "  _merge  \n",
       "0   both  \n",
       "1   both  \n",
       "2   both  \n",
       "3   both  \n",
       "4   both  "
      ]
     },
     "execution_count": 3,
     "metadata": {},
     "output_type": "execute_result"
    }
   ],
   "source": [
    "df_ords_prods_merge.head()"
   ]
  },
  {
   "cell_type": "code",
   "execution_count": null,
   "id": "32cfc67b-7ce6-493e-a2c5-a6288981de62",
   "metadata": {},
   "outputs": [],
   "source": []
  },
  {
   "cell_type": "markdown",
   "id": "c6a2ae40-0741-42be-94a4-14af744a86ab",
   "metadata": {},
   "source": [
    "# Building/Applying Functions"
   ]
  },
  {
   "cell_type": "markdown",
   "id": "9b1fc418-4c29-4e79-ad25-8ecda9458551",
   "metadata": {},
   "source": [
    "## defining function with if loop to create price-category collumn"
   ]
  },
  {
   "cell_type": "code",
   "execution_count": 4,
   "id": "5a064141-b648-4ecf-b954-3a689054240e",
   "metadata": {},
   "outputs": [],
   "source": [
    "def price_label(row):\n",
    "\n",
    "  if row['prices'] <= 5:\n",
    "    return 'Low-range product'\n",
    "  elif (row['prices'] > 5) and (row['prices'] <= 15):\n",
    "    return 'Mid-range product'\n",
    "  elif row['prices'] > 15:\n",
    "    return 'High range'\n",
    "  else: return 'Not enough data'"
   ]
  },
  {
   "cell_type": "code",
   "execution_count": 5,
   "id": "20b2e24d-29da-4eb8-b0d6-3e4045208071",
   "metadata": {},
   "outputs": [],
   "source": [
    "#applying function to dataframe\n",
    "df_ords_prods_merge['price_range']= df_ords_prods_merge.apply(price_label,axis=1)"
   ]
  },
  {
   "cell_type": "code",
   "execution_count": 6,
   "id": "dd7d662f-d548-4034-8057-501b9f43e76d",
   "metadata": {},
   "outputs": [
    {
     "data": {
      "text/plain": [
       "price_range\n",
       "Mid-range product    21860860\n",
       "Low-range product    10126321\n",
       "High range             417678\n",
       "Name: count, dtype: int64"
      ]
     },
     "execution_count": 6,
     "metadata": {},
     "output_type": "execute_result"
    }
   ],
   "source": [
    "#checking price range frequency\n",
    "df_ords_prods_merge['price_range'].value_counts()"
   ]
  },
  {
   "cell_type": "code",
   "execution_count": 7,
   "id": "d8b37359-ca26-4a02-a27c-78cf923cd58b",
   "metadata": {},
   "outputs": [
    {
     "data": {
      "text/plain": [
       "99999.0"
      ]
     },
     "execution_count": 7,
     "metadata": {},
     "output_type": "execute_result"
    }
   ],
   "source": [
    "#checking most expensive item(s)\n",
    "df_ords_prods_merge['prices'].max()"
   ]
  },
  {
   "cell_type": "markdown",
   "id": "096608f3-4daf-42e9-8b12-e629b65bc8f8",
   "metadata": {},
   "source": [
    "## defining function with loc() to create price-category collumn"
   ]
  },
  {
   "cell_type": "markdown",
   "id": "4edfa058-64fc-496f-9960-09989afd87eb",
   "metadata": {},
   "source": [
    "df.loc[df['prices'] > 15, 'price_range_loc'] = 'High-range product'"
   ]
  },
  {
   "cell_type": "markdown",
   "id": "cb2590eb-de6a-4850-90f6-b97a44e3c159",
   "metadata": {},
   "source": [
    "df.loc[(df['prices'] <= 15) & (df['prices'] > 5), 'price_range_loc'] = 'Mid-range product'"
   ]
  },
  {
   "cell_type": "markdown",
   "id": "d9ae0f33-a194-4cd6-86d6-d47f3d3f1f08",
   "metadata": {},
   "source": [
    "df.loc[df['prices'] <= 5, 'price_range_loc'] = 'Low-range product'"
   ]
  },
  {
   "cell_type": "markdown",
   "id": "4500e257-d138-4e1b-9e3d-a5c513b6d9b6",
   "metadata": {},
   "source": [
    "# DIDN'T RUN LOC, AS I HAD OPTIMIZED THE MEMORY ALLOCATION OF THE DATAFRAME IN THE PREVIOUS EXERCISE, SO THE IF STATEMENT RAN FULLY"
   ]
  },
  {
   "cell_type": "markdown",
   "id": "0a18bbcb-7d86-48ad-86ab-e85869ca3391",
   "metadata": {},
   "source": [
    "## Creating Busiest Day column"
   ]
  },
  {
   "cell_type": "code",
   "execution_count": 8,
   "id": "5abfa195-0a08-4c8f-97b1-b85ef33d09e2",
   "metadata": {},
   "outputs": [
    {
     "data": {
      "text/plain": [
       "orders_day_of_week\n",
       "0    6204182\n",
       "1    5660230\n",
       "6    4496490\n",
       "2    4213830\n",
       "5    4205791\n",
       "3    3840534\n",
       "4    3783802\n",
       "Name: count, dtype: int64"
      ]
     },
     "execution_count": 8,
     "metadata": {},
     "output_type": "execute_result"
    }
   ],
   "source": [
    "df_ords_prods_merge['orders_day_of_week'].value_counts(dropna = False)"
   ]
  },
  {
   "cell_type": "markdown",
   "id": "8d0ee53b-407a-4f4f-8753-0061fd892d72",
   "metadata": {},
   "source": [
    "for value in df_ords_prods_merge['orders_day_of_week']:\n",
    "    if value ==0:\n",
    "        df_ords_prods_merge['busiest_day'] = 'Busiest day'\n",
    "    elif value ==4:\n",
    "        df_ords_prods_merge['busiest_day'] = 'Least busy'\n",
    "    else:\n",
    "        df_ords_prods_merge['busiest_day'] = 'Regularly Busy'"
   ]
  },
  {
   "cell_type": "code",
   "execution_count": 11,
   "id": "35cb8768-f1fb-4283-ae70-567fb75c5855",
   "metadata": {},
   "outputs": [],
   "source": [
    "#creating list with values to add to busiest_day column\n",
    "result = []\n",
    "\n",
    "for value in df_ords_prods_merge[\"orders_day_of_week\"]:\n",
    "  if (value ==0):\n",
    "    result.append(\"Busiest day\")\n",
    "  elif (value ==4):\n",
    "    result.append(\"Least busy\")\n",
    "  else:\n",
    "    result.append(\"Regularly busy\")"
   ]
  },
  {
   "cell_type": "code",
   "execution_count": 12,
   "id": "4055f350-3be6-4018-85db-d072b43c3d6d",
   "metadata": {},
   "outputs": [],
   "source": [
    "#appending list values to busiest_day column\n",
    "df_ords_prods_merge['busiest_day'] = result"
   ]
  },
  {
   "cell_type": "code",
   "execution_count": 13,
   "id": "5f946372-706e-4d4b-8c1b-de92ee576f3e",
   "metadata": {},
   "outputs": [
    {
     "data": {
      "text/plain": [
       "busiest_day\n",
       "Regularly busy    22416875\n",
       "Busiest day        6204182\n",
       "Least busy         3783802\n",
       "Name: count, dtype: int64"
      ]
     },
     "execution_count": 13,
     "metadata": {},
     "output_type": "execute_result"
    }
   ],
   "source": [
    "#printing frequency of busiest_day column\n",
    "df_ords_prods_merge['busiest_day'].value_counts(dropna = False)"
   ]
  },
  {
   "cell_type": "markdown",
   "id": "d02269a1-2078-404f-8f31-7a5e73780d3c",
   "metadata": {},
   "source": [
    "# TASK 4.7 START"
   ]
  },
  {
   "cell_type": "markdown",
   "id": "fc4ec54a-0510-4d45-8019-ea32ad7d24ba",
   "metadata": {},
   "source": [
    "## Creating Busiest Days column"
   ]
  },
  {
   "cell_type": "code",
   "execution_count": 21,
   "id": "e949b305-93af-449b-84be-018b8fa7212a",
   "metadata": {},
   "outputs": [],
   "source": [
    "#creating list with values to add to busiest_days column\n",
    "result = []\n",
    "\n",
    "for value in df_ords_prods_merge[\"orders_day_of_week\"]:\n",
    "  if (value ==0 or value== 1):\n",
    "    result.append(\"Busiest day\")\n",
    "  elif (value ==4 or value== 3):\n",
    "    result.append(\"Least busy\")\n",
    "  else:\n",
    "    result.append(\"Regularly busy\")"
   ]
  },
  {
   "cell_type": "code",
   "execution_count": 23,
   "id": "b670d06d-51b2-4aec-a37f-51439ed00520",
   "metadata": {},
   "outputs": [],
   "source": [
    "#appending list values to busiest_days column\n",
    "df_ords_prods_merge['busiest_days'] = result"
   ]
  },
  {
   "cell_type": "code",
   "execution_count": 24,
   "id": "73ce4bf3-923c-42ed-9d65-78f9e3d6d788",
   "metadata": {},
   "outputs": [
    {
     "data": {
      "text/plain": [
       "busiest_days\n",
       "Regularly busy    12916111\n",
       "Busiest day       11864412\n",
       "Least busy         7624336\n",
       "Name: count, dtype: int64"
      ]
     },
     "execution_count": 24,
     "metadata": {},
     "output_type": "execute_result"
    }
   ],
   "source": [
    "#printing frequency of busiest_days column\n",
    "df_ords_prods_merge['busiest_days'].value_counts(dropna = False)"
   ]
  },
  {
   "cell_type": "code",
   "execution_count": 33,
   "id": "4e916fb6-4d9a-43d8-b9cc-598806c25a48",
   "metadata": {},
   "outputs": [
    {
     "data": {
      "text/plain": [
       "True"
      ]
     },
     "execution_count": 33,
     "metadata": {},
     "output_type": "execute_result"
    }
   ],
   "source": [
    "#Checking if all columns were attributed\n",
    "22416875+6204182+3783802 == 12916111+11864412+7624336"
   ]
  },
  {
   "cell_type": "markdown",
   "id": "deafb3b8-d137-4faa-b765-439393f0fd5e",
   "metadata": {},
   "source": [
    "Doubling the scope of definition of busy day or least busy day correlated almost linearly to a doubling of the counts for those categories, which means that both the two least/most busy days had similar counts between them. The number of rows(observations) matches with the previous count for the busiest day column, which means all columns have been attributed"
   ]
  },
  {
   "cell_type": "markdown",
   "id": "d5552baf-3e9d-4d61-9922-44039f366f93",
   "metadata": {},
   "source": [
    "## Creating Busiest period of day column"
   ]
  },
  {
   "cell_type": "code",
   "execution_count": 25,
   "id": "bf807758-4817-410b-9356-edcffbdac4d9",
   "metadata": {},
   "outputs": [
    {
     "data": {
      "text/plain": [
       "order_hour_of_day\n",
       "10    2761760\n",
       "11    2736140\n",
       "14    2689136\n",
       "15    2662144\n",
       "13    2660954\n",
       "12    2618532\n",
       "16    2535202\n",
       "9     2454203\n",
       "17    2087654\n",
       "8     1718118\n",
       "18    1636502\n",
       "19    1258305\n",
       "20     976156\n",
       "7      891054\n",
       "21     795637\n",
       "22     634225\n",
       "23     402316\n",
       "6      290493\n",
       "0      218769\n",
       "1      115700\n",
       "5       87961\n",
       "2       69375\n",
       "4       53242\n",
       "3       51281\n",
       "Name: count, dtype: int64"
      ]
     },
     "execution_count": 25,
     "metadata": {},
     "output_type": "execute_result"
    }
   ],
   "source": [
    "# printing frequency of order_hour_of_day column to discover busiest periods of the day\n",
    "df_ords_prods_merge['order_hour_of_day'].value_counts(dropna = False)"
   ]
  },
  {
   "cell_type": "code",
   "execution_count": 26,
   "id": "d4e34220-d8bf-48a9-b8c4-e5e714f47f4f",
   "metadata": {},
   "outputs": [],
   "source": [
    "#creating list with values to add to busiest_period_of_day column\n",
    "result = []\n",
    "\n",
    "for value in df_ords_prods_merge[\"order_hour_of_day\"]:\n",
    "  if value in (10,11,14,15,13,12,16,9):\n",
    "    result.append(\"Most orders\")\n",
    "  elif value in (3,4,2,5,1,0,6,23):\n",
    "    result.append(\"Fewest orders\")\n",
    "  else:\n",
    "    result.append(\"Average orders\")"
   ]
  },
  {
   "cell_type": "code",
   "execution_count": 27,
   "id": "7c77ec3c-d344-43ed-8ab6-a60be931682a",
   "metadata": {},
   "outputs": [],
   "source": [
    "#appending list values to busiest_period_of_day column\n",
    "df_ords_prods_merge['busiest_period_of_day'] = result"
   ]
  },
  {
   "cell_type": "code",
   "execution_count": 28,
   "id": "0c9b54e4-5932-4cf5-8e69-92067f7faa59",
   "metadata": {},
   "outputs": [
    {
     "data": {
      "text/plain": [
       "busiest_period_of_day\n",
       "Most orders       21118071\n",
       "Average orders     9997651\n",
       "Fewest orders      1289137\n",
       "Name: count, dtype: int64"
      ]
     },
     "execution_count": 28,
     "metadata": {},
     "output_type": "execute_result"
    }
   ],
   "source": [
    "#printing frequency of busiest_period_of_day column\n",
    "df_ords_prods_merge['busiest_period_of_day'].value_counts(dropna = False)"
   ]
  },
  {
   "cell_type": "markdown",
   "id": "8307e372-0e3f-4e1e-9848-504a9e2c4c88",
   "metadata": {},
   "source": [
    "# Dropping _merge column (no longer useful)"
   ]
  },
  {
   "cell_type": "code",
   "execution_count": 35,
   "id": "7b2fc017-bc94-423e-9637-5e78a0011168",
   "metadata": {},
   "outputs": [],
   "source": [
    "df_ords_prods_merge.drop(columns='_merge',inplace=True)"
   ]
  },
  {
   "cell_type": "code",
   "execution_count": 37,
   "id": "cec01e4e-9b6f-4b79-b975-472688f5b3aa",
   "metadata": {},
   "outputs": [
    {
     "data": {
      "text/html": [
       "<div>\n",
       "<style scoped>\n",
       "    .dataframe tbody tr th:only-of-type {\n",
       "        vertical-align: middle;\n",
       "    }\n",
       "\n",
       "    .dataframe tbody tr th {\n",
       "        vertical-align: top;\n",
       "    }\n",
       "\n",
       "    .dataframe thead th {\n",
       "        text-align: right;\n",
       "    }\n",
       "</style>\n",
       "<table border=\"1\" class=\"dataframe\">\n",
       "  <thead>\n",
       "    <tr style=\"text-align: right;\">\n",
       "      <th></th>\n",
       "      <th>order_id</th>\n",
       "      <th>product_id</th>\n",
       "      <th>add_to_cart_order</th>\n",
       "      <th>reordered</th>\n",
       "      <th>user_id</th>\n",
       "      <th>order_number</th>\n",
       "      <th>orders_day_of_week</th>\n",
       "      <th>order_hour_of_day</th>\n",
       "      <th>days_since_prior_order</th>\n",
       "      <th>first_order_flag</th>\n",
       "      <th>product_name</th>\n",
       "      <th>aisle_id</th>\n",
       "      <th>department_id</th>\n",
       "      <th>prices</th>\n",
       "      <th>price_range</th>\n",
       "      <th>busiest_day</th>\n",
       "      <th>busiest_days</th>\n",
       "      <th>busiest_period_of_day</th>\n",
       "    </tr>\n",
       "  </thead>\n",
       "  <tbody>\n",
       "    <tr>\n",
       "      <th>0</th>\n",
       "      <td>2</td>\n",
       "      <td>33120</td>\n",
       "      <td>1</td>\n",
       "      <td>1</td>\n",
       "      <td>202279</td>\n",
       "      <td>3</td>\n",
       "      <td>5</td>\n",
       "      <td>9</td>\n",
       "      <td>8.0</td>\n",
       "      <td>False</td>\n",
       "      <td>Organic Egg Whites</td>\n",
       "      <td>86</td>\n",
       "      <td>16</td>\n",
       "      <td>11.3</td>\n",
       "      <td>Mid-range product</td>\n",
       "      <td>Regularly busy</td>\n",
       "      <td>Regularly busy</td>\n",
       "      <td>Most orders</td>\n",
       "    </tr>\n",
       "    <tr>\n",
       "      <th>1</th>\n",
       "      <td>26</td>\n",
       "      <td>33120</td>\n",
       "      <td>5</td>\n",
       "      <td>0</td>\n",
       "      <td>153404</td>\n",
       "      <td>2</td>\n",
       "      <td>0</td>\n",
       "      <td>16</td>\n",
       "      <td>7.0</td>\n",
       "      <td>False</td>\n",
       "      <td>Organic Egg Whites</td>\n",
       "      <td>86</td>\n",
       "      <td>16</td>\n",
       "      <td>11.3</td>\n",
       "      <td>Mid-range product</td>\n",
       "      <td>Busiest day</td>\n",
       "      <td>Busiest day</td>\n",
       "      <td>Most orders</td>\n",
       "    </tr>\n",
       "    <tr>\n",
       "      <th>2</th>\n",
       "      <td>120</td>\n",
       "      <td>33120</td>\n",
       "      <td>13</td>\n",
       "      <td>0</td>\n",
       "      <td>23750</td>\n",
       "      <td>11</td>\n",
       "      <td>6</td>\n",
       "      <td>8</td>\n",
       "      <td>10.0</td>\n",
       "      <td>False</td>\n",
       "      <td>Organic Egg Whites</td>\n",
       "      <td>86</td>\n",
       "      <td>16</td>\n",
       "      <td>11.3</td>\n",
       "      <td>Mid-range product</td>\n",
       "      <td>Regularly busy</td>\n",
       "      <td>Regularly busy</td>\n",
       "      <td>Average orders</td>\n",
       "    </tr>\n",
       "    <tr>\n",
       "      <th>3</th>\n",
       "      <td>327</td>\n",
       "      <td>33120</td>\n",
       "      <td>5</td>\n",
       "      <td>1</td>\n",
       "      <td>58707</td>\n",
       "      <td>21</td>\n",
       "      <td>6</td>\n",
       "      <td>9</td>\n",
       "      <td>8.0</td>\n",
       "      <td>False</td>\n",
       "      <td>Organic Egg Whites</td>\n",
       "      <td>86</td>\n",
       "      <td>16</td>\n",
       "      <td>11.3</td>\n",
       "      <td>Mid-range product</td>\n",
       "      <td>Regularly busy</td>\n",
       "      <td>Regularly busy</td>\n",
       "      <td>Most orders</td>\n",
       "    </tr>\n",
       "    <tr>\n",
       "      <th>4</th>\n",
       "      <td>390</td>\n",
       "      <td>33120</td>\n",
       "      <td>28</td>\n",
       "      <td>1</td>\n",
       "      <td>166654</td>\n",
       "      <td>48</td>\n",
       "      <td>0</td>\n",
       "      <td>12</td>\n",
       "      <td>9.0</td>\n",
       "      <td>False</td>\n",
       "      <td>Organic Egg Whites</td>\n",
       "      <td>86</td>\n",
       "      <td>16</td>\n",
       "      <td>11.3</td>\n",
       "      <td>Mid-range product</td>\n",
       "      <td>Busiest day</td>\n",
       "      <td>Busiest day</td>\n",
       "      <td>Most orders</td>\n",
       "    </tr>\n",
       "  </tbody>\n",
       "</table>\n",
       "</div>"
      ],
      "text/plain": [
       "   order_id  product_id  add_to_cart_order  reordered  user_id  order_number  \\\n",
       "0         2       33120                  1          1   202279             3   \n",
       "1        26       33120                  5          0   153404             2   \n",
       "2       120       33120                 13          0    23750            11   \n",
       "3       327       33120                  5          1    58707            21   \n",
       "4       390       33120                 28          1   166654            48   \n",
       "\n",
       "   orders_day_of_week  order_hour_of_day  days_since_prior_order  \\\n",
       "0                   5                  9                     8.0   \n",
       "1                   0                 16                     7.0   \n",
       "2                   6                  8                    10.0   \n",
       "3                   6                  9                     8.0   \n",
       "4                   0                 12                     9.0   \n",
       "\n",
       "   first_order_flag        product_name  aisle_id  department_id  prices  \\\n",
       "0             False  Organic Egg Whites        86             16    11.3   \n",
       "1             False  Organic Egg Whites        86             16    11.3   \n",
       "2             False  Organic Egg Whites        86             16    11.3   \n",
       "3             False  Organic Egg Whites        86             16    11.3   \n",
       "4             False  Organic Egg Whites        86             16    11.3   \n",
       "\n",
       "         price_range     busiest_day    busiest_days busiest_period_of_day  \n",
       "0  Mid-range product  Regularly busy  Regularly busy           Most orders  \n",
       "1  Mid-range product     Busiest day     Busiest day           Most orders  \n",
       "2  Mid-range product  Regularly busy  Regularly busy        Average orders  \n",
       "3  Mid-range product  Regularly busy  Regularly busy           Most orders  \n",
       "4  Mid-range product     Busiest day     Busiest day           Most orders  "
      ]
     },
     "execution_count": 37,
     "metadata": {},
     "output_type": "execute_result"
    }
   ],
   "source": [
    "#Checking if dropped\n",
    "df_ords_prods_merge.head()"
   ]
  },
  {
   "cell_type": "markdown",
   "id": "2f5c4295-eec3-48ad-a6eb-9f88ded9291a",
   "metadata": {},
   "source": [
    "# Exporting File"
   ]
  },
  {
   "cell_type": "code",
   "execution_count": 38,
   "id": "98f2bb9f-fa4f-4f61-986d-4d7db7ef9cfd",
   "metadata": {},
   "outputs": [],
   "source": [
    "df_ords_prods_merge.to_pickle(os.path.join(path,'Prepared Data','orders_products_derived.pkl'))"
   ]
  },
  {
   "cell_type": "code",
   "execution_count": null,
   "id": "04eff03b-410f-4038-be38-7aba962ae452",
   "metadata": {},
   "outputs": [],
   "source": []
  }
 ],
 "metadata": {
  "kernelspec": {
   "display_name": "Python 3 (ipykernel)",
   "language": "python",
   "name": "python3"
  },
  "language_info": {
   "codemirror_mode": {
    "name": "ipython",
    "version": 3
   },
   "file_extension": ".py",
   "mimetype": "text/x-python",
   "name": "python",
   "nbconvert_exporter": "python",
   "pygments_lexer": "ipython3",
   "version": "3.11.5"
  }
 },
 "nbformat": 4,
 "nbformat_minor": 5
}
