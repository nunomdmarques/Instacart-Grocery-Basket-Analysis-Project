{
 "cells": [
  {
   "cell_type": "markdown",
   "id": "1b2d5299-15fb-4f56-8915-bc8a9201ff56",
   "metadata": {},
   "source": [
    "### Import Libraries\n",
    "### Import Files\n",
    "### Checking Dataframe\n",
    "### Plotting\n",
    "##### Bar Charts\n",
    "##### Histograms\n",
    "##### Line Charts\n",
    "###### Sampling Data\n",
    "### Export Files"
   ]
  },
  {
   "cell_type": "markdown",
   "id": "47c2a13b-1fc7-4999-86aa-3dff02dd0801",
   "metadata": {},
   "source": [
    "# Import libraries"
   ]
  },
  {
   "cell_type": "code",
   "execution_count": 1,
   "id": "7a05e866-6a2e-4e24-8aab-6cff142f6258",
   "metadata": {},
   "outputs": [],
   "source": [
    "import pandas as pd\n",
    "import numpy as np\n",
    "import os\n",
    "import matplotlib.pyplot as plt\n",
    "import seaborn as sns\n",
    "import scipy"
   ]
  },
  {
   "cell_type": "markdown",
   "id": "41097150-3313-447d-a404-204e44490903",
   "metadata": {},
   "source": [
    "# Import Files"
   ]
  },
  {
   "cell_type": "code",
   "execution_count": 2,
   "id": "dfff8c34-e312-4468-a04f-e17b7c25bae9",
   "metadata": {},
   "outputs": [],
   "source": [
    "path = r'C:\\Users\\Nuno\\04-2024 Instacart Basket Analysis'\n",
    "df_orders_products_derived = pd.read_pickle(os.path.join(path,'02 Data','Prepared Data','4.8_orders_products_derived.pkl'))"
   ]
  },
  {
   "cell_type": "markdown",
   "id": "b52bec0e-fc22-442e-aced-a110846837c4",
   "metadata": {},
   "source": [
    "## Checking Dataframe"
   ]
  },
  {
   "cell_type": "code",
   "execution_count": 3,
   "id": "8f3dd78b-ac6f-4172-a945-16bb226b7855",
   "metadata": {},
   "outputs": [
    {
     "data": {
      "text/html": [
       "<div>\n",
       "<style scoped>\n",
       "    .dataframe tbody tr th:only-of-type {\n",
       "        vertical-align: middle;\n",
       "    }\n",
       "\n",
       "    .dataframe tbody tr th {\n",
       "        vertical-align: top;\n",
       "    }\n",
       "\n",
       "    .dataframe thead th {\n",
       "        text-align: right;\n",
       "    }\n",
       "</style>\n",
       "<table border=\"1\" class=\"dataframe\">\n",
       "  <thead>\n",
       "    <tr style=\"text-align: right;\">\n",
       "      <th></th>\n",
       "      <th>order_id</th>\n",
       "      <th>product_id</th>\n",
       "      <th>add_to_cart_order</th>\n",
       "      <th>reordered</th>\n",
       "      <th>user_id</th>\n",
       "      <th>order_number</th>\n",
       "      <th>orders_day_of_week</th>\n",
       "      <th>order_hour_of_day</th>\n",
       "      <th>days_since_prior_order</th>\n",
       "      <th>first_order_flag</th>\n",
       "      <th>...</th>\n",
       "      <th>price_range</th>\n",
       "      <th>busiest_day</th>\n",
       "      <th>busiest_days</th>\n",
       "      <th>busiest_period_of_day</th>\n",
       "      <th>max_order</th>\n",
       "      <th>loyalty_flag</th>\n",
       "      <th>spending_flag</th>\n",
       "      <th>type_of_spender</th>\n",
       "      <th>med_days_since_order</th>\n",
       "      <th>freq_of_customer</th>\n",
       "    </tr>\n",
       "  </thead>\n",
       "  <tbody>\n",
       "    <tr>\n",
       "      <th>0</th>\n",
       "      <td>2</td>\n",
       "      <td>33120</td>\n",
       "      <td>1</td>\n",
       "      <td>1</td>\n",
       "      <td>202279</td>\n",
       "      <td>3</td>\n",
       "      <td>5</td>\n",
       "      <td>9</td>\n",
       "      <td>8.0</td>\n",
       "      <td>False</td>\n",
       "      <td>...</td>\n",
       "      <td>Mid-range product</td>\n",
       "      <td>Regularly busy</td>\n",
       "      <td>Regularly busy</td>\n",
       "      <td>Most orders</td>\n",
       "      <td>8</td>\n",
       "      <td>New customer</td>\n",
       "      <td>8.618889</td>\n",
       "      <td>Low spender</td>\n",
       "      <td>24.0</td>\n",
       "      <td>Non-frequent customer</td>\n",
       "    </tr>\n",
       "    <tr>\n",
       "      <th>1</th>\n",
       "      <td>26</td>\n",
       "      <td>33120</td>\n",
       "      <td>5</td>\n",
       "      <td>0</td>\n",
       "      <td>153404</td>\n",
       "      <td>2</td>\n",
       "      <td>0</td>\n",
       "      <td>16</td>\n",
       "      <td>7.0</td>\n",
       "      <td>False</td>\n",
       "      <td>...</td>\n",
       "      <td>Mid-range product</td>\n",
       "      <td>Busiest day</td>\n",
       "      <td>Busiest day</td>\n",
       "      <td>Most orders</td>\n",
       "      <td>32</td>\n",
       "      <td>Regular customer</td>\n",
       "      <td>8.072613</td>\n",
       "      <td>Low spender</td>\n",
       "      <td>8.0</td>\n",
       "      <td>Frequent customer</td>\n",
       "    </tr>\n",
       "    <tr>\n",
       "      <th>2</th>\n",
       "      <td>120</td>\n",
       "      <td>33120</td>\n",
       "      <td>13</td>\n",
       "      <td>0</td>\n",
       "      <td>23750</td>\n",
       "      <td>11</td>\n",
       "      <td>6</td>\n",
       "      <td>8</td>\n",
       "      <td>10.0</td>\n",
       "      <td>False</td>\n",
       "      <td>...</td>\n",
       "      <td>Mid-range product</td>\n",
       "      <td>Regularly busy</td>\n",
       "      <td>Regularly busy</td>\n",
       "      <td>Average orders</td>\n",
       "      <td>13</td>\n",
       "      <td>Regular customer</td>\n",
       "      <td>8.598592</td>\n",
       "      <td>Low spender</td>\n",
       "      <td>10.0</td>\n",
       "      <td>Frequent customer</td>\n",
       "    </tr>\n",
       "    <tr>\n",
       "      <th>3</th>\n",
       "      <td>327</td>\n",
       "      <td>33120</td>\n",
       "      <td>5</td>\n",
       "      <td>1</td>\n",
       "      <td>58707</td>\n",
       "      <td>21</td>\n",
       "      <td>6</td>\n",
       "      <td>9</td>\n",
       "      <td>8.0</td>\n",
       "      <td>False</td>\n",
       "      <td>...</td>\n",
       "      <td>Mid-range product</td>\n",
       "      <td>Regularly busy</td>\n",
       "      <td>Regularly busy</td>\n",
       "      <td>Most orders</td>\n",
       "      <td>30</td>\n",
       "      <td>Regular customer</td>\n",
       "      <td>6.549333</td>\n",
       "      <td>Low spender</td>\n",
       "      <td>10.0</td>\n",
       "      <td>Frequent customer</td>\n",
       "    </tr>\n",
       "    <tr>\n",
       "      <th>4</th>\n",
       "      <td>390</td>\n",
       "      <td>33120</td>\n",
       "      <td>28</td>\n",
       "      <td>1</td>\n",
       "      <td>166654</td>\n",
       "      <td>48</td>\n",
       "      <td>0</td>\n",
       "      <td>12</td>\n",
       "      <td>9.0</td>\n",
       "      <td>False</td>\n",
       "      <td>...</td>\n",
       "      <td>Mid-range product</td>\n",
       "      <td>Busiest day</td>\n",
       "      <td>Busiest day</td>\n",
       "      <td>Most orders</td>\n",
       "      <td>62</td>\n",
       "      <td>Loyal customer</td>\n",
       "      <td>7.302487</td>\n",
       "      <td>Low spender</td>\n",
       "      <td>5.0</td>\n",
       "      <td>Frequent customer</td>\n",
       "    </tr>\n",
       "  </tbody>\n",
       "</table>\n",
       "<p>5 rows × 24 columns</p>\n",
       "</div>"
      ],
      "text/plain": [
       "   order_id  product_id  add_to_cart_order  reordered  user_id  order_number  \\\n",
       "0         2       33120                  1          1   202279             3   \n",
       "1        26       33120                  5          0   153404             2   \n",
       "2       120       33120                 13          0    23750            11   \n",
       "3       327       33120                  5          1    58707            21   \n",
       "4       390       33120                 28          1   166654            48   \n",
       "\n",
       "   orders_day_of_week  order_hour_of_day  days_since_prior_order  \\\n",
       "0                   5                  9                     8.0   \n",
       "1                   0                 16                     7.0   \n",
       "2                   6                  8                    10.0   \n",
       "3                   6                  9                     8.0   \n",
       "4                   0                 12                     9.0   \n",
       "\n",
       "   first_order_flag  ...        price_range     busiest_day    busiest_days  \\\n",
       "0             False  ...  Mid-range product  Regularly busy  Regularly busy   \n",
       "1             False  ...  Mid-range product     Busiest day     Busiest day   \n",
       "2             False  ...  Mid-range product  Regularly busy  Regularly busy   \n",
       "3             False  ...  Mid-range product  Regularly busy  Regularly busy   \n",
       "4             False  ...  Mid-range product     Busiest day     Busiest day   \n",
       "\n",
       "   busiest_period_of_day max_order      loyalty_flag spending_flag  \\\n",
       "0            Most orders         8      New customer      8.618889   \n",
       "1            Most orders        32  Regular customer      8.072613   \n",
       "2         Average orders        13  Regular customer      8.598592   \n",
       "3            Most orders        30  Regular customer      6.549333   \n",
       "4            Most orders        62    Loyal customer      7.302487   \n",
       "\n",
       "  type_of_spender  med_days_since_order       freq_of_customer  \n",
       "0     Low spender                  24.0  Non-frequent customer  \n",
       "1     Low spender                   8.0      Frequent customer  \n",
       "2     Low spender                  10.0      Frequent customer  \n",
       "3     Low spender                  10.0      Frequent customer  \n",
       "4     Low spender                   5.0      Frequent customer  \n",
       "\n",
       "[5 rows x 24 columns]"
      ]
     },
     "execution_count": 3,
     "metadata": {},
     "output_type": "execute_result"
    }
   ],
   "source": [
    "df_orders_products_derived.head()"
   ]
  },
  {
   "cell_type": "markdown",
   "id": "05cda273-3c9f-4762-b6b7-90d375c72e21",
   "metadata": {},
   "source": [
    "## Plotting"
   ]
  },
  {
   "cell_type": "markdown",
   "id": "2f43609a-30e1-4a47-b84b-d4e6a030f791",
   "metadata": {},
   "source": [
    "### Bar Charts"
   ]
  },
  {
   "cell_type": "code",
   "execution_count": 4,
   "id": "f6eef6c0-81be-45eb-a826-242f5178e1b0",
   "metadata": {},
   "outputs": [
    {
     "data": {
      "text/plain": [
       "<Axes: xlabel='orders_day_of_week'>"
      ]
     },
     "execution_count": 4,
     "metadata": {},
     "output_type": "execute_result"
    },
    {
     "data": {
      "image/png": "[encoded data removed]",
      "text/plain": [
       "<Figure size 640x480 with 1 Axes>"
      ]
     },
     "metadata": {},
     "output_type": "display_data"
    }
   ],
   "source": [
    "#Create a bar chart for orders_day_of_week\n",
    "df_orders_products_derived['orders_day_of_week'].value_counts().plot.bar()"
   ]
  },
  {
   "cell_type": "code",
   "execution_count": 5,
   "id": "f65f611e-e752-4d4d-a22b-69729212ef8c",
   "metadata": {},
   "outputs": [
    {
     "data": {
      "text/plain": [
       "<Axes: xlabel='orders_day_of_week'>"
      ]
     },
     "execution_count": 5,
     "metadata": {},
     "output_type": "execute_result"
    },
    {
     "data": {
      "image/png": "[encoded data removed]",
      "text/plain": [
       "<Figure size 640x480 with 1 Axes>"
      ]
     },
     "metadata": {},
     "output_type": "display_data"
    }
   ],
   "source": [
    "#Create a sorted bar chart for orders_day_of_week\n",
    "df_orders_products_derived['orders_day_of_week'].value_counts().sort_index().plot.bar()"
   ]
  },
  {
   "cell_type": "code",
   "execution_count": 6,
   "id": "f2570952-f2ca-420c-bc4f-1c60121e542d",
   "metadata": {},
   "outputs": [
    {
     "data": {
      "text/plain": [
       "<Axes: xlabel='orders_day_of_week'>"
      ]
     },
     "execution_count": 6,
     "metadata": {},
     "output_type": "execute_result"
    },
    {
     "data": {
      "image/png": "[encoded data removed]",
      "text/plain": [
       "<Figure size 640x480 with 1 Axes>"
      ]
     },
     "metadata": {},
     "output_type": "display_data"
    }
   ],
   "source": [
    "#Create a coloured sorted bar chart for orders_day_of_week\n",
    "df_orders_products_derived['orders_day_of_week'].value_counts().sort_index().plot.bar(color = ['purple','red','pink','orange','yellow','green','blue'])"
   ]
  },
  {
   "cell_type": "code",
   "execution_count": 7,
   "id": "030fb291-fdc3-42a3-b2cc-3d7cdbb15af8",
   "metadata": {},
   "outputs": [
    {
     "data": {
      "image/png": "[encoded data removed]",
      "text/plain": [
       "<Figure size 640x480 with 1 Axes>"
      ]
     },
     "metadata": {},
     "output_type": "display_data"
    }
   ],
   "source": [
    "# saving the coloured chart to memory\n",
    "df_orders_products_derived['orders_day_of_week'].value_counts().sort_index().plot.bar(color = 'blue')\n",
    "plt.title('Number of orders per day of the week')\n",
    "plt.xlabel('Day of the week')\n",
    "plt.savefig(os.path.join(path, '04 Analysis','Visualizations', 'bar_orders_dow.png'))"
   ]
  },
  {
   "cell_type": "code",
   "execution_count": null,
   "id": "4fda6caa-f36a-44f5-aadd-64f5bbfefac8",
   "metadata": {},
   "outputs": [],
   "source": [
    "#exporting a saved chart with figure.savefig\n",
    "coloured_bar_chart.figure.savefig(os.path.join(path, '04 Analysis','Visualizations', 'bar_orders_dow.png'))"
   ]
  },
  {
   "cell_type": "markdown",
   "id": "2ed13446-e438-42e0-a5b3-23cf73a1e514",
   "metadata": {},
   "source": [
    "### Histograms"
   ]
  },
  {
   "cell_type": "code",
   "execution_count": 8,
   "id": "641deb4a-7c78-4f22-8795-164c404807c9",
   "metadata": {},
   "outputs": [
    {
     "data": {
      "text/plain": [
       "<Axes: ylabel='Frequency'>"
      ]
     },
     "execution_count": 8,
     "metadata": {},
     "output_type": "execute_result"
    },
    {
     "data": {
      "image/png": "[encoded data removed]",
      "text/plain": [
       "<Figure size 640x480 with 1 Axes>"
      ]
     },
     "metadata": {},
     "output_type": "display_data"
    }
   ],
   "source": [
    "#Create a bar chart for orders_day_of_week\n",
    "df_orders_products_derived['prices'].plot.hist(bins=25)"
   ]
  },
  {
   "cell_type": "code",
   "execution_count": 9,
   "id": "39c93643-5a7d-4b6e-ad39-0308c72e4546",
   "metadata": {},
   "outputs": [
    {
     "data": {
      "text/plain": [
       "<Axes: xlabel='prices', ylabel='prices'>"
      ]
     },
     "execution_count": 9,
     "metadata": {},
     "output_type": "execute_result"
    },
    {
     "data": {
      "image/png": "[encoded data removed]",
      "text/plain": [
       "<Figure size 640x480 with 1 Axes>"
      ]
     },
     "metadata": {},
     "output_type": "display_data"
    }
   ],
   "source": [
    "#create a scatterplot for prices to look for outliers visually\n",
    "sns.scatterplot(x='prices', y='prices',data=df_orders_products_derived)"
   ]
  },
  {
   "cell_type": "code",
   "execution_count": 10,
   "id": "94f0c81d-e523-4d41-bcc6-efe3b808e121",
   "metadata": {},
   "outputs": [
    {
     "data": {
      "text/html": [
       "<div>\n",
       "<style scoped>\n",
       "    .dataframe tbody tr th:only-of-type {\n",
       "        vertical-align: middle;\n",
       "    }\n",
       "\n",
       "    .dataframe tbody tr th {\n",
       "        vertical-align: top;\n",
       "    }\n",
       "\n",
       "    .dataframe thead th {\n",
       "        text-align: right;\n",
       "    }\n",
       "</style>\n",
       "<table border=\"1\" class=\"dataframe\">\n",
       "  <thead>\n",
       "    <tr style=\"text-align: right;\">\n",
       "      <th></th>\n",
       "      <th>order_id</th>\n",
       "      <th>product_id</th>\n",
       "      <th>add_to_cart_order</th>\n",
       "      <th>reordered</th>\n",
       "      <th>user_id</th>\n",
       "      <th>order_number</th>\n",
       "      <th>orders_day_of_week</th>\n",
       "      <th>order_hour_of_day</th>\n",
       "      <th>days_since_prior_order</th>\n",
       "      <th>first_order_flag</th>\n",
       "      <th>...</th>\n",
       "      <th>price_range</th>\n",
       "      <th>busiest_day</th>\n",
       "      <th>busiest_days</th>\n",
       "      <th>busiest_period_of_day</th>\n",
       "      <th>max_order</th>\n",
       "      <th>loyalty_flag</th>\n",
       "      <th>spending_flag</th>\n",
       "      <th>type_of_spender</th>\n",
       "      <th>med_days_since_order</th>\n",
       "      <th>freq_of_customer</th>\n",
       "    </tr>\n",
       "  </thead>\n",
       "  <tbody>\n",
       "    <tr>\n",
       "      <th>5993732</th>\n",
       "      <td>43</td>\n",
       "      <td>21553</td>\n",
       "      <td>6</td>\n",
       "      <td>1</td>\n",
       "      <td>39630</td>\n",
       "      <td>14</td>\n",
       "      <td>5</td>\n",
       "      <td>17</td>\n",
       "      <td>4.0</td>\n",
       "      <td>False</td>\n",
       "      <td>...</td>\n",
       "      <td>High range</td>\n",
       "      <td>Regularly busy</td>\n",
       "      <td>Regularly busy</td>\n",
       "      <td>Average orders</td>\n",
       "      <td>14</td>\n",
       "      <td>Regular customer</td>\n",
       "      <td>304.253000</td>\n",
       "      <td>High spender</td>\n",
       "      <td>4.0</td>\n",
       "      <td>Frequent customer</td>\n",
       "    </tr>\n",
       "    <tr>\n",
       "      <th>5993733</th>\n",
       "      <td>950</td>\n",
       "      <td>21553</td>\n",
       "      <td>20</td>\n",
       "      <td>0</td>\n",
       "      <td>187854</td>\n",
       "      <td>16</td>\n",
       "      <td>1</td>\n",
       "      <td>11</td>\n",
       "      <td>16.0</td>\n",
       "      <td>False</td>\n",
       "      <td>...</td>\n",
       "      <td>High range</td>\n",
       "      <td>Regularly busy</td>\n",
       "      <td>Busiest day</td>\n",
       "      <td>Most orders</td>\n",
       "      <td>30</td>\n",
       "      <td>Regular customer</td>\n",
       "      <td>95.273077</td>\n",
       "      <td>High spender</td>\n",
       "      <td>13.0</td>\n",
       "      <td>Regular customer</td>\n",
       "    </tr>\n",
       "    <tr>\n",
       "      <th>5993734</th>\n",
       "      <td>1115</td>\n",
       "      <td>21553</td>\n",
       "      <td>14</td>\n",
       "      <td>1</td>\n",
       "      <td>168014</td>\n",
       "      <td>15</td>\n",
       "      <td>6</td>\n",
       "      <td>14</td>\n",
       "      <td>30.0</td>\n",
       "      <td>False</td>\n",
       "      <td>...</td>\n",
       "      <td>High range</td>\n",
       "      <td>Regularly busy</td>\n",
       "      <td>Regularly busy</td>\n",
       "      <td>Most orders</td>\n",
       "      <td>21</td>\n",
       "      <td>Regular customer</td>\n",
       "      <td>100.808075</td>\n",
       "      <td>High spender</td>\n",
       "      <td>9.0</td>\n",
       "      <td>Frequent customer</td>\n",
       "    </tr>\n",
       "    <tr>\n",
       "      <th>5993735</th>\n",
       "      <td>1155</td>\n",
       "      <td>21553</td>\n",
       "      <td>18</td>\n",
       "      <td>1</td>\n",
       "      <td>103747</td>\n",
       "      <td>22</td>\n",
       "      <td>1</td>\n",
       "      <td>13</td>\n",
       "      <td>12.0</td>\n",
       "      <td>False</td>\n",
       "      <td>...</td>\n",
       "      <td>High range</td>\n",
       "      <td>Regularly busy</td>\n",
       "      <td>Busiest day</td>\n",
       "      <td>Most orders</td>\n",
       "      <td>27</td>\n",
       "      <td>Regular customer</td>\n",
       "      <td>154.024939</td>\n",
       "      <td>High spender</td>\n",
       "      <td>7.0</td>\n",
       "      <td>Frequent customer</td>\n",
       "    </tr>\n",
       "    <tr>\n",
       "      <th>5993736</th>\n",
       "      <td>1220</td>\n",
       "      <td>21553</td>\n",
       "      <td>19</td>\n",
       "      <td>0</td>\n",
       "      <td>23475</td>\n",
       "      <td>3</td>\n",
       "      <td>0</td>\n",
       "      <td>17</td>\n",
       "      <td>26.0</td>\n",
       "      <td>False</td>\n",
       "      <td>...</td>\n",
       "      <td>High range</td>\n",
       "      <td>Busiest day</td>\n",
       "      <td>Busiest day</td>\n",
       "      <td>Average orders</td>\n",
       "      <td>3</td>\n",
       "      <td>New customer</td>\n",
       "      <td>337.015556</td>\n",
       "      <td>High spender</td>\n",
       "      <td>26.0</td>\n",
       "      <td>Non-frequent customer</td>\n",
       "    </tr>\n",
       "    <tr>\n",
       "      <th>...</th>\n",
       "      <td>...</td>\n",
       "      <td>...</td>\n",
       "      <td>...</td>\n",
       "      <td>...</td>\n",
       "      <td>...</td>\n",
       "      <td>...</td>\n",
       "      <td>...</td>\n",
       "      <td>...</td>\n",
       "      <td>...</td>\n",
       "      <td>...</td>\n",
       "      <td>...</td>\n",
       "      <td>...</td>\n",
       "      <td>...</td>\n",
       "      <td>...</td>\n",
       "      <td>...</td>\n",
       "      <td>...</td>\n",
       "      <td>...</td>\n",
       "      <td>...</td>\n",
       "      <td>...</td>\n",
       "      <td>...</td>\n",
       "      <td>...</td>\n",
       "    </tr>\n",
       "    <tr>\n",
       "      <th>28355377</th>\n",
       "      <td>3407607</td>\n",
       "      <td>33664</td>\n",
       "      <td>9</td>\n",
       "      <td>1</td>\n",
       "      <td>14872</td>\n",
       "      <td>17</td>\n",
       "      <td>4</td>\n",
       "      <td>21</td>\n",
       "      <td>13.0</td>\n",
       "      <td>False</td>\n",
       "      <td>...</td>\n",
       "      <td>High range</td>\n",
       "      <td>Least busy</td>\n",
       "      <td>Least busy</td>\n",
       "      <td>Average orders</td>\n",
       "      <td>18</td>\n",
       "      <td>Regular customer</td>\n",
       "      <td>983.341220</td>\n",
       "      <td>High spender</td>\n",
       "      <td>10.0</td>\n",
       "      <td>Frequent customer</td>\n",
       "    </tr>\n",
       "    <tr>\n",
       "      <th>28355378</th>\n",
       "      <td>3409400</td>\n",
       "      <td>33664</td>\n",
       "      <td>1</td>\n",
       "      <td>1</td>\n",
       "      <td>70851</td>\n",
       "      <td>10</td>\n",
       "      <td>5</td>\n",
       "      <td>9</td>\n",
       "      <td>5.0</td>\n",
       "      <td>False</td>\n",
       "      <td>...</td>\n",
       "      <td>High range</td>\n",
       "      <td>Regularly busy</td>\n",
       "      <td>Regularly busy</td>\n",
       "      <td>Most orders</td>\n",
       "      <td>34</td>\n",
       "      <td>Regular customer</td>\n",
       "      <td>1229.697208</td>\n",
       "      <td>High spender</td>\n",
       "      <td>7.0</td>\n",
       "      <td>Frequent customer</td>\n",
       "    </tr>\n",
       "    <tr>\n",
       "      <th>28355379</th>\n",
       "      <td>3414106</td>\n",
       "      <td>33664</td>\n",
       "      <td>5</td>\n",
       "      <td>1</td>\n",
       "      <td>111487</td>\n",
       "      <td>25</td>\n",
       "      <td>6</td>\n",
       "      <td>7</td>\n",
       "      <td>9.0</td>\n",
       "      <td>False</td>\n",
       "      <td>...</td>\n",
       "      <td>High range</td>\n",
       "      <td>Regularly busy</td>\n",
       "      <td>Regularly busy</td>\n",
       "      <td>Average orders</td>\n",
       "      <td>34</td>\n",
       "      <td>Regular customer</td>\n",
       "      <td>1694.434691</td>\n",
       "      <td>High spender</td>\n",
       "      <td>7.0</td>\n",
       "      <td>Frequent customer</td>\n",
       "    </tr>\n",
       "    <tr>\n",
       "      <th>28355380</th>\n",
       "      <td>3417702</td>\n",
       "      <td>33664</td>\n",
       "      <td>13</td>\n",
       "      <td>0</td>\n",
       "      <td>70821</td>\n",
       "      <td>5</td>\n",
       "      <td>2</td>\n",
       "      <td>14</td>\n",
       "      <td>18.0</td>\n",
       "      <td>False</td>\n",
       "      <td>...</td>\n",
       "      <td>High range</td>\n",
       "      <td>Regularly busy</td>\n",
       "      <td>Regularly busy</td>\n",
       "      <td>Most orders</td>\n",
       "      <td>28</td>\n",
       "      <td>Regular customer</td>\n",
       "      <td>3181.452910</td>\n",
       "      <td>High spender</td>\n",
       "      <td>7.0</td>\n",
       "      <td>Frequent customer</td>\n",
       "    </tr>\n",
       "    <tr>\n",
       "      <th>28355381</th>\n",
       "      <td>3421047</td>\n",
       "      <td>33664</td>\n",
       "      <td>6</td>\n",
       "      <td>0</td>\n",
       "      <td>98554</td>\n",
       "      <td>4</td>\n",
       "      <td>1</td>\n",
       "      <td>11</td>\n",
       "      <td>4.0</td>\n",
       "      <td>False</td>\n",
       "      <td>...</td>\n",
       "      <td>High range</td>\n",
       "      <td>Regularly busy</td>\n",
       "      <td>Busiest day</td>\n",
       "      <td>Most orders</td>\n",
       "      <td>15</td>\n",
       "      <td>Regular customer</td>\n",
       "      <td>776.953077</td>\n",
       "      <td>High spender</td>\n",
       "      <td>8.0</td>\n",
       "      <td>Frequent customer</td>\n",
       "    </tr>\n",
       "  </tbody>\n",
       "</table>\n",
       "<p>5127 rows × 24 columns</p>\n",
       "</div>"
      ],
      "text/plain": [
       "          order_id  product_id  add_to_cart_order  reordered  user_id  \\\n",
       "5993732         43       21553                  6          1    39630   \n",
       "5993733        950       21553                 20          0   187854   \n",
       "5993734       1115       21553                 14          1   168014   \n",
       "5993735       1155       21553                 18          1   103747   \n",
       "5993736       1220       21553                 19          0    23475   \n",
       "...            ...         ...                ...        ...      ...   \n",
       "28355377   3407607       33664                  9          1    14872   \n",
       "28355378   3409400       33664                  1          1    70851   \n",
       "28355379   3414106       33664                  5          1   111487   \n",
       "28355380   3417702       33664                 13          0    70821   \n",
       "28355381   3421047       33664                  6          0    98554   \n",
       "\n",
       "          order_number  orders_day_of_week  order_hour_of_day  \\\n",
       "5993732             14                   5                 17   \n",
       "5993733             16                   1                 11   \n",
       "5993734             15                   6                 14   \n",
       "5993735             22                   1                 13   \n",
       "5993736              3                   0                 17   \n",
       "...                ...                 ...                ...   \n",
       "28355377            17                   4                 21   \n",
       "28355378            10                   5                  9   \n",
       "28355379            25                   6                  7   \n",
       "28355380             5                   2                 14   \n",
       "28355381             4                   1                 11   \n",
       "\n",
       "          days_since_prior_order  first_order_flag  ... price_range  \\\n",
       "5993732                      4.0             False  ...  High range   \n",
       "5993733                     16.0             False  ...  High range   \n",
       "5993734                     30.0             False  ...  High range   \n",
       "5993735                     12.0             False  ...  High range   \n",
       "5993736                     26.0             False  ...  High range   \n",
       "...                          ...               ...  ...         ...   \n",
       "28355377                    13.0             False  ...  High range   \n",
       "28355378                     5.0             False  ...  High range   \n",
       "28355379                     9.0             False  ...  High range   \n",
       "28355380                    18.0             False  ...  High range   \n",
       "28355381                     4.0             False  ...  High range   \n",
       "\n",
       "             busiest_day    busiest_days  busiest_period_of_day max_order  \\\n",
       "5993732   Regularly busy  Regularly busy         Average orders        14   \n",
       "5993733   Regularly busy     Busiest day            Most orders        30   \n",
       "5993734   Regularly busy  Regularly busy            Most orders        21   \n",
       "5993735   Regularly busy     Busiest day            Most orders        27   \n",
       "5993736      Busiest day     Busiest day         Average orders         3   \n",
       "...                  ...             ...                    ...       ...   \n",
       "28355377      Least busy      Least busy         Average orders        18   \n",
       "28355378  Regularly busy  Regularly busy            Most orders        34   \n",
       "28355379  Regularly busy  Regularly busy         Average orders        34   \n",
       "28355380  Regularly busy  Regularly busy            Most orders        28   \n",
       "28355381  Regularly busy     Busiest day            Most orders        15   \n",
       "\n",
       "              loyalty_flag spending_flag type_of_spender  \\\n",
       "5993732   Regular customer    304.253000    High spender   \n",
       "5993733   Regular customer     95.273077    High spender   \n",
       "5993734   Regular customer    100.808075    High spender   \n",
       "5993735   Regular customer    154.024939    High spender   \n",
       "5993736       New customer    337.015556    High spender   \n",
       "...                    ...           ...             ...   \n",
       "28355377  Regular customer    983.341220    High spender   \n",
       "28355378  Regular customer   1229.697208    High spender   \n",
       "28355379  Regular customer   1694.434691    High spender   \n",
       "28355380  Regular customer   3181.452910    High spender   \n",
       "28355381  Regular customer    776.953077    High spender   \n",
       "\n",
       "          med_days_since_order       freq_of_customer  \n",
       "5993732                    4.0      Frequent customer  \n",
       "5993733                   13.0       Regular customer  \n",
       "5993734                    9.0      Frequent customer  \n",
       "5993735                    7.0      Frequent customer  \n",
       "5993736                   26.0  Non-frequent customer  \n",
       "...                        ...                    ...  \n",
       "28355377                  10.0      Frequent customer  \n",
       "28355378                   7.0      Frequent customer  \n",
       "28355379                   7.0      Frequent customer  \n",
       "28355380                   7.0      Frequent customer  \n",
       "28355381                   8.0      Frequent customer  \n",
       "\n",
       "[5127 rows x 24 columns]"
      ]
     },
     "execution_count": 10,
     "metadata": {},
     "output_type": "execute_result"
    }
   ],
   "source": [
    "#Checking for outliers in price within our dataset\n",
    "df_orders_products_derived.loc[df_orders_products_derived['prices'] > 100]"
   ]
  },
  {
   "cell_type": "code",
   "execution_count": 3,
   "id": "f4409fc1-571f-4d75-a338-70785271e15a",
   "metadata": {},
   "outputs": [],
   "source": [
    "# replace all values of price > 100 with NaN\n",
    "df_orders_products_derived.loc[df_orders_products_derived['prices'] > 100,'prices'] = np.nan"
   ]
  },
  {
   "cell_type": "code",
   "execution_count": 12,
   "id": "43c6c82d-413b-4f75-bfc4-37d46e1e8eda",
   "metadata": {},
   "outputs": [
    {
     "data": {
      "text/plain": [
       "25.0"
      ]
     },
     "execution_count": 12,
     "metadata": {},
     "output_type": "execute_result"
    }
   ],
   "source": [
    "df_orders_products_derived['prices'].max()"
   ]
  },
  {
   "cell_type": "code",
   "execution_count": 10,
   "id": "8a9d3aef-8ceb-48ee-8196-66cae0a2aec2",
   "metadata": {},
   "outputs": [
    {
     "data": {
      "image/png": "[encoded data removed]",
      "text/plain": [
       "<Figure size 640x480 with 1 Axes>"
      ]
     },
     "metadata": {},
     "output_type": "display_data"
    }
   ],
   "source": [
    "#Creating a histogram of prices\n",
    "df_orders_products_derived['prices'].plot.hist(bins = 70)\n",
    "plt.title('Distribution of purchases across prices')\n",
    "plt.xlabel('Prices')\n",
    "plt.savefig(os.path.join(path, '04 Analysis','Visualizations', 'hist_prices.png'))"
   ]
  },
  {
   "cell_type": "markdown",
   "id": "d0ed0b33-9b3b-4707-b806-8774c4422f64",
   "metadata": {},
   "source": [
    "### Line Charts"
   ]
  },
  {
   "cell_type": "markdown",
   "id": "6642f40f-a9e7-4fdd-98cc-57c26ae87eaa",
   "metadata": {},
   "source": [
    "### Sampling Data "
   ]
  },
  {
   "cell_type": "code",
   "execution_count": 4,
   "id": "675ed7a2-8989-4f0b-abc0-3230c15ac77a",
   "metadata": {},
   "outputs": [],
   "source": [
    "#Create a random seed for reproducibility\n",
    "np.random.seed(4)\n",
    "#create a new list, dev. Stores boolean values—output of True or False for 32,404,859 random numbers wether it’s less than or equal to 0.7\n",
    "dev = np.random.rand(len(df_orders_products_derived)) <= 0.7"
   ]
  },
  {
   "cell_type": "code",
   "execution_count": 5,
   "id": "6060960b-0307-459b-b1fd-ecb75847b8ab",
   "metadata": {},
   "outputs": [],
   "source": [
    "#Store 70% of our df's values in big\n",
    "big = df_orders_products_derived[dev]\n",
    "#Store the remaining 30% in small (~ negates the False to become True)\n",
    "small = df_orders_products_derived[~dev]"
   ]
  },
  {
   "cell_type": "code",
   "execution_count": 14,
   "id": "4c9bde24-5e4e-461e-b220-1e49264bd969",
   "metadata": {},
   "outputs": [
    {
     "data": {
      "text/plain": [
       "True"
      ]
     },
     "execution_count": 14,
     "metadata": {},
     "output_type": "execute_result"
    }
   ],
   "source": [
    "#Check if size of dataframes matches up\n",
    "len(big)+len(small) == len(df_orders_products_derived)"
   ]
  },
  {
   "cell_type": "code",
   "execution_count": 6,
   "id": "0695c798-c850-4785-8f20-40d5157a3a82",
   "metadata": {},
   "outputs": [],
   "source": [
    "#Create subsections of data for faster analysis\n",
    "df_2 = small[['orders_day_of_week','prices']]"
   ]
  },
  {
   "cell_type": "code",
   "execution_count": null,
   "id": "b2c89591-cf4d-4209-a69a-524461093aac",
   "metadata": {},
   "outputs": [
    {
     "name": "stderr",
     "output_type": "stream",
     "text": [
      "C:\\Users\\Nuno\\anaconda3\\Lib\\site-packages\\seaborn\\_oldcore.py:1119: FutureWarning: use_inf_as_na option is deprecated and will be removed in a future version. Convert inf values to NaN before operating instead.\n",
      "  with pd.option_context('mode.use_inf_as_na', True):\n",
      "C:\\Users\\Nuno\\anaconda3\\Lib\\site-packages\\seaborn\\_oldcore.py:1119: FutureWarning: use_inf_as_na option is deprecated and will be removed in a future version. Convert inf values to NaN before operating instead.\n",
      "  with pd.option_context('mode.use_inf_as_na', True):\n"
     ]
    }
   ],
   "source": [
    "#Create line chart of our smaller sampled data and save it to line object\n",
    "sns.lineplot(data = df_2, x = 'orders_day_of_week',y = 'prices')\n",
    "plt.title('Average Price per item throughout the week')\n",
    "plt.xlabel('Day of the Week')\n",
    "plt.ylabel('Prices')\n",
    "plt.savefig(os.path.join(path,'04 Analysis','Visualizations','price_throughout_the_week.png'))"
   ]
  },
  {
   "cell_type": "markdown",
   "id": "a48d5df2-c3ae-4a3e-9d6d-6d08205bb583",
   "metadata": {},
   "source": [
    "#export line chart\n",
    "line.figure.savefig(os.path.join(path,'04 Analysis','Visualizations','line_chart_prices_orders_dow.png'))"
   ]
  },
  {
   "cell_type": "markdown",
   "id": "8679239b-1dba-4dfd-aa8b-77201b16a211",
   "metadata": {},
   "source": [
    "## Export Files"
   ]
  },
  {
   "cell_type": "code",
   "execution_count": 19,
   "id": "fd4a55f0-4d05-491d-90cc-62b377bab671",
   "metadata": {},
   "outputs": [],
   "source": [
    "df_orders_products_derived.to_pickle(os.path.join(path,'02 Data','Prepared Data','4_9_orders_products_derived.pkl'))"
   ]
  },
  {
   "cell_type": "code",
   "execution_count": 24,
   "id": "28cc99b2-18e1-48ed-a2b8-fd8a4e8f951d",
   "metadata": {},
   "outputs": [
    {
     "data": {
      "text/html": [
       "<div>\n",
       "<style scoped>\n",
       "    .dataframe tbody tr th:only-of-type {\n",
       "        vertical-align: middle;\n",
       "    }\n",
       "\n",
       "    .dataframe tbody tr th {\n",
       "        vertical-align: top;\n",
       "    }\n",
       "\n",
       "    .dataframe thead th {\n",
       "        text-align: right;\n",
       "    }\n",
       "</style>\n",
       "<table border=\"1\" class=\"dataframe\">\n",
       "  <thead>\n",
       "    <tr style=\"text-align: right;\">\n",
       "      <th></th>\n",
       "      <th>order_id</th>\n",
       "      <th>product_id</th>\n",
       "      <th>add_to_cart_order</th>\n",
       "      <th>reordered</th>\n",
       "      <th>user_id</th>\n",
       "      <th>order_number</th>\n",
       "      <th>orders_day_of_week</th>\n",
       "      <th>order_hour_of_day</th>\n",
       "      <th>days_since_prior_order</th>\n",
       "      <th>first_order_flag</th>\n",
       "      <th>...</th>\n",
       "      <th>price_range</th>\n",
       "      <th>busiest_day</th>\n",
       "      <th>busiest_days</th>\n",
       "      <th>busiest_period_of_day</th>\n",
       "      <th>max_order</th>\n",
       "      <th>loyalty_flag</th>\n",
       "      <th>spending_flag</th>\n",
       "      <th>type_of_spender</th>\n",
       "      <th>med_days_since_order</th>\n",
       "      <th>freq_of_customer</th>\n",
       "    </tr>\n",
       "  </thead>\n",
       "  <tbody>\n",
       "  </tbody>\n",
       "</table>\n",
       "<p>0 rows × 24 columns</p>\n",
       "</div>"
      ],
      "text/plain": [
       "Empty DataFrame\n",
       "Columns: [order_id, product_id, add_to_cart_order, reordered, user_id, order_number, orders_day_of_week, order_hour_of_day, days_since_prior_order, first_order_flag, product_name, aisle_id, department_id, prices, price_range, busiest_day, busiest_days, busiest_period_of_day, max_order, loyalty_flag, spending_flag, type_of_spender, med_days_since_order, freq_of_customer]\n",
       "Index: []\n",
       "\n",
       "[0 rows x 24 columns]"
      ]
     },
     "execution_count": 24,
     "metadata": {},
     "output_type": "execute_result"
    }
   ],
   "source": [
    "df_orders_products_derived[df_orders_products_derived['prices'] > 100]"
   ]
  },
  {
   "cell_type": "code",
   "execution_count": null,
   "id": "54484fd8-ff5c-4106-992f-1fff65ce999a",
   "metadata": {},
   "outputs": [],
   "source": []
  }
 ],
 "metadata": {
  "kernelspec": {
   "display_name": "Python 3 (ipykernel)",
   "language": "python",
   "name": "python3"
  },
  "language_info": {
   "codemirror_mode": {
    "name": "ipython",
    "version": 3
   },
   "file_extension": ".py",
   "mimetype": "text/x-python",
   "name": "python",
   "nbconvert_exporter": "python",
   "pygments_lexer": "ipython3",
   "version": "3.11.5"
  }
 },
 "nbformat": 4,
 "nbformat_minor": 5
}
